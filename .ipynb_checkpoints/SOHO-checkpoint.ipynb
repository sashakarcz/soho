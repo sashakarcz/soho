{
 "cells": [
  {
   "cell_type": "markdown",
   "id": "efb57df9-031a-4913-8de0-eb379d9ac474",
   "metadata": {},
   "source": [
    "# SOHO photometry\n",
    "This Jupyter Notebook is built to assist with creating publication quality plots for SOHO data of comets."
   ]
  },
  {
   "cell_type": "code",
   "execution_count": 1,
   "id": "a7767714-9dd0-4294-9cb2-f449094716b5",
   "metadata": {
    "jupyter": {
     "source_hidden": true
    }
   },
   "outputs": [],
   "source": [
    "from IPython.display import display\n",
    "from ipywidgets import Button, FileUpload, widgets\n",
    "import matplotlib.dates as mdates\n",
    "import matplotlib.pyplot as plt\n",
    "import numpy as np\n",
    "import os\n",
    "import pandas as pd\n",
    "from datetime import timedelta"
   ]
  },
  {
   "cell_type": "markdown",
   "id": "cd687e9a-7122-4b16-9f5c-b69e77d73624",
   "metadata": {},
   "source": [
    "## Quickstart\n",
    "1. Upload the MPC data file with the file extension .txt\n",
    "2. Upload the SOHO data file with the file extension .dat\n",
    "3. Update the `variables` in the second code cell\n",
    "4. Press the `Restart the kernel and run all cells` button. It looks like the fast forward button (>>)."
   ]
  },
  {
   "cell_type": "markdown",
   "id": "f8361687-b2a8-41f3-9a18-49887165752a",
   "metadata": {},
   "source": [
    "## Variables\n",
    "<a id=\"variables\"></a>\n",
    "All the variables that you may want to use are defined here. You only need to change the next code cell's values. Once that is complete, press the `Restart the kernel and run all cells` -- this looks like a fast forward button (>>)."
   ]
  },
  {
   "cell_type": "code",
   "execution_count": 2,
   "id": "7b8b2ef3-d99f-4451-b572-2d78a73eed04",
   "metadata": {},
   "outputs": [],
   "source": [
    "### All variables should go here\n",
    "\n",
    "COLUMN_TO_PLOT='m03' # Header value for the column you want to graph\n",
    "COMET='YYYY data of N/Hairy-Star' # Title to put in Graph\n",
    "MAX_MAG=20 # Adjust the Y-Axis for max magnitude\n",
    "MIN_MAG=0 # Adjust the Y-Axis for min magnitude\n",
    "XLABEL='Date' # This is what the main label of the X-Axis is\n",
    "XROT=35 # Number of degrees to rotate the tick labels\n",
    "XSTEPS=20 # This is the number of ticks on the X-axis\n",
    "YLABEL='Magnitude'\n"
   ]
  },
  {
   "cell_type": "markdown",
   "id": "54c91a25-a790-4869-9180-8c15e530a6e9",
   "metadata": {},
   "source": [
    "## Hidden Cells\n",
    "Most of the cells in this notebook are hidden / collapsed. Click the bar to the left of each cell to expand / collapse them. They are hidden out of attention to user experience. You may edit any value, or add any steps in any of the code cells. We have tried to be verbose in our comments to make it easier to follow what is happening. "
   ]
  },
  {
   "cell_type": "code",
   "execution_count": 3,
   "id": "a206b044-af47-4569-8c78-dd0bf65145aa",
   "metadata": {
    "jupyter": {
     "source_hidden": true
    }
   },
   "outputs": [],
   "source": [
    "# List all files in the current directory\n",
    "files = os.listdir()\n",
    "\n",
    "# Filter txt files for df1 and dat files for df2\n",
    "df1_file = next((file for file in files if file.endswith('.txt')), None)\n",
    "df2_file = next((file for file in files if file.endswith('.dat')), None)"
   ]
  },
  {
   "cell_type": "code",
   "execution_count": 4,
   "id": "73d37aaa-ac31-43f3-bf24-01ee5dcdbb0d",
   "metadata": {
    "jupyter": {
     "source_hidden": true
    }
   },
   "outputs": [],
   "source": [
    "# Enable LaTeX text rendering and 300 DPI\n",
    "plt.rcParams.update({\n",
    "    \"text.usetex\": True,\n",
    "    \"font.family\": \"serif\",\n",
    "    \"font.serif\": [\"Computer Modern\"],\n",
    "    \"figure.dpi\": \"300\",\n",
    "})"
   ]
  },
  {
   "cell_type": "code",
   "execution_count": 5,
   "id": "1f8dc1c6-221b-4670-ad49-06d6517fae70",
   "metadata": {
    "jupyter": {
     "source_hidden": true
    }
   },
   "outputs": [],
   "source": [
    "# Read the first data file and add columns 1,2,3,10 (zero indexed) to the pd object with index of Year, Month, Day, Magnitude\n",
    "df1 = pd.read_csv(df1_file, sep='\\s+', header=None, usecols=[1, 2, 3, 10], names=['Year', 'Month', 'Day', 'Magnitude'])"
   ]
  },
  {
   "cell_type": "code",
   "execution_count": 6,
   "id": "621f83c1-b9fb-49b5-9162-02693f08e977",
   "metadata": {
    "jupyter": {
     "source_hidden": true
    }
   },
   "outputs": [],
   "source": [
    "# Remove any preceding characters from the year column and convert to string\n",
    "df1['Year'] = df1['Year'].str.replace(r'\\D+', '', regex=True).astype(str)\n",
    "\n",
    "# Convert Month and Day columns to string and zero-pad if necessary so each month and day has two digits\n",
    "df1['Month'] = df1['Month'].astype(str).str.zfill(2)\n",
    "df1['Day'] = df1['Day'].astype(str).str.zfill(2)\n",
    "\n",
    "# Combine columns to create a datetime column\n",
    "df1['DateTime'] = pd.to_datetime(df1['Year'] + df1['Month'] + df1['Day'], format='%Y%m%d.%f')\n",
    "\n",
    "# Convert the 'DateTime' column to datetime objects\n",
    "df1['DateTime'] = pd.to_datetime(df1['DateTime'], format='%Y-%m-%d', errors='coerce')\n",
    "\n",
    "# Convert Magnitude column to numeric, handling non-numeric values by setting them to NaN\n",
    "df1['Magnitude'] = pd.to_numeric(df1['Magnitude'], errors='coerce')\n",
    "\n",
    "# Remove rows with NaN values in Magnitude column\n",
    "df1 = df1.dropna(subset=['Magnitude'])\n",
    "\n",
    "# Remove rows with NaT values in DateTime column\n",
    "df1 = df1.dropna(subset=['DateTime'])\n"
   ]
  },
  {
   "cell_type": "code",
   "execution_count": 7,
   "id": "b0fdefea-9a18-4f27-a3d8-993137155461",
   "metadata": {
    "jupyter": {
     "source_hidden": true
    }
   },
   "outputs": [],
   "source": [
    "# Read the second data file\n",
    "df2 = pd.read_csv(df2_file, sep='\\s+')"
   ]
  },
  {
   "cell_type": "code",
   "execution_count": 8,
   "id": "0b58781a-eda3-48e9-9ee7-72ccf1609810",
   "metadata": {
    "jupyter": {
     "source_hidden": true
    }
   },
   "outputs": [],
   "source": [
    "# Combine date and time from the second data file\n",
    "df2['DateTime'] = pd.to_datetime(df2['Date'] + ' ' + df2['Time'])\n",
    "\n",
    "# Convert the 'DateTime' column to datetime data type with a specified format\n",
    "df2['DateTime'] = pd.to_datetime(df2['DateTime'], format='%Y-%m-%d')\n",
    "\n",
    "# Remove rows with NaT values in DateTime column\n",
    "df2 = df2.dropna(subset=['DateTime'])\n",
    "\n",
    "# Choose which column to graph based on the column header\n",
    "column_to_plot = COLUMN_TO_PLOT  # Change this to plot different columns in the variable section\n",
    "\n",
    "# Remove rows with NaN values in column_to_plot column\n",
    "df2 = df2.dropna(subset=[column_to_plot])"
   ]
  },
  {
   "cell_type": "markdown",
   "id": "0cd068de-b10f-4c0a-bceb-0453bf75b2d8",
   "metadata": {},
   "source": [
    "## Plot\n",
    "After the notebook has run, you should see a plot in this section. After reviewing it, you may determine that more work will needed and [variables](#variables) may need modified.\n",
    "\n",
    "### When things are not perfect\n",
    "\n",
    "1. Breathe\n",
    "2. Get a cup of coffee or tea\n",
    "3. Check the Y-Axis limits in variables section. If the limits are wonky, the displayed results will look wrong.\n",
    "4. Add print statements for variables\n",
    "5. Check the data files for errors"
   ]
  },
  {
   "cell_type": "code",
   "execution_count": 1,
   "id": "389d8f56-2d7c-4b35-a453-bd00f397eb2a",
   "metadata": {
    "jupyter": {
     "source_hidden": true
    }
   },
   "outputs": [
    {
     "ename": "NameError",
     "evalue": "name 'df1' is not defined",
     "output_type": "error",
     "traceback": [
      "\u001b[0;31m---------------------------------------------------------------------------\u001b[0m",
      "\u001b[0;31mNameError\u001b[0m                                 Traceback (most recent call last)",
      "Cell \u001b[0;32mIn[1], line 2\u001b[0m\n\u001b[1;32m      1\u001b[0m \u001b[38;5;66;03m# Select relevant columns from df1 and df2\u001b[39;00m\n\u001b[0;32m----> 2\u001b[0m df1_selected \u001b[38;5;241m=\u001b[39m \u001b[43mdf1\u001b[49m[[\u001b[38;5;124m'\u001b[39m\u001b[38;5;124mDateTime\u001b[39m\u001b[38;5;124m'\u001b[39m, \u001b[38;5;124m'\u001b[39m\u001b[38;5;124mMagnitude\u001b[39m\u001b[38;5;124m'\u001b[39m]]\n\u001b[1;32m      3\u001b[0m df2_selected \u001b[38;5;241m=\u001b[39m df2[[\u001b[38;5;124m'\u001b[39m\u001b[38;5;124mDateTime\u001b[39m\u001b[38;5;124m'\u001b[39m, column_to_plot]]\n\u001b[1;32m      5\u001b[0m \u001b[38;5;66;03m# Combine the columns from the two data file into a new thrid data object\u001b[39;00m\n",
      "\u001b[0;31mNameError\u001b[0m: name 'df1' is not defined"
     ]
    }
   ],
   "source": [
    "# Here we combine the pd objects df1 and df2 into one new object df3 so that we can plot all the data on the same graph\n",
    "\n",
    "# Select relevant columns from df1 and df2\n",
    "df1_selected = df1[['DateTime', 'Magnitude']]\n",
    "df2_selected = df2[['DateTime', column_to_plot]]\n",
    "\n",
    "# Combine the columns from the two data file into a new thrid data object\n",
    "df3 = pd.concat([df1_selected, df2_selected], ignore_index=True)\n",
    "\n",
    "# Format the date strings for df3 in MM/DD format\n",
    "date_labels_df3 = df3['DateTime'].dt.strftime('%m/%d')\n",
    "\n",
    "# Calculate the range of dates in the df3 dataset to scale X-Axis\n",
    "date_range = df3['DateTime'].max() - df3['DateTime'].min()\n",
    "\n",
    "# Calculate the step size for each tick on the X-Axis based on XSTEPS\n",
    "step_size = date_range / (XSTEPS - 1)\n",
    "\n",
    "# Generate the tick positions for the X-Axis\n",
    "tick_positions = [df3['DateTime'].min() + step_size * i for i in range(XSTEPS)]\n",
    "\n",
    "# Generate the tick labels for the X-Axis\n",
    "tick_labels = [date.strftime('%m/%d') for date in tick_positions]\n",
    "\n",
    "# Set the x-axis ticks and labels\n",
    "plt.xticks(tick_positions, tick_labels, rotation=XROT)\n",
    "\n",
    "# Set the y-axis limits manually\n",
    "plt.ylim(MIN_MAG, MAX_MAG)  # Adjust the limits as needed in the variable section\n",
    "\n",
    "# Scatter plot for df3, specifying marker and color for each dataset\n",
    "plt.scatter(df3['DateTime'], df3['Magnitude'], label='MPC Data', s=10, edgecolor='red', marker='o', facecolor='none')\n",
    "plt.scatter(df3['DateTime'], df3[column_to_plot], label='SOHO Data', s=10, edgecolor='green', marker='^', facecolor='none')\n",
    "\n",
    "# Add labels for the x and y axes\n",
    "plt.xlabel(XLABEL)\n",
    "plt.ylabel(YLABEL)\n",
    "\n",
    "# Add title\n",
    "plt.title(COMET)\n",
    "\n",
    "# Change the font size of tick labels\n",
    "plt.xticks(fontsize=8)  # Adjust the font size as needed\n",
    "plt.yticks(fontsize=8)  # Adjust the font size as needed\n",
    "\n",
    "# Invert the Y-axis so smaller numbers represent brighter magnitudes\n",
    "plt.gca().invert_yaxis()\n",
    "\n",
    "#Create the legend and allow python to put it in the most reasonable place\n",
    "plt.legend()\n",
    "\n",
    "# Draw the plot\n",
    "plt.show()"
   ]
  }
 ],
 "metadata": {
  "kernelspec": {
   "display_name": "Python 3 (ipykernel)",
   "language": "python",
   "name": "python3"
  },
  "language_info": {
   "codemirror_mode": {
    "name": "ipython",
    "version": 3
   },
   "file_extension": ".py",
   "mimetype": "text/x-python",
   "name": "python",
   "nbconvert_exporter": "python",
   "pygments_lexer": "ipython3",
   "version": "3.11.8"
  }
 },
 "nbformat": 4,
 "nbformat_minor": 5
}
